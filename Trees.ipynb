{
 "cells": [
  {
   "cell_type": "code",
   "execution_count": 1,
   "metadata": {},
   "outputs": [],
   "source": [
    "# %%\n",
    "from sklearn.metrics import precision_recall_fscore_support, accuracy_score, matthews_corrcoef, plot_confusion_matrix\n",
    "import pandas as pd\n",
    "from sklearn import tree\n",
    "from sklearn.preprocessing import OneHotEncoder\n",
    "from sklearn.model_selection import train_test_split, GridSearchCV\n",
    "import numpy as np"
   ]
  },
  {
   "cell_type": "code",
   "execution_count": 2,
   "metadata": {},
   "outputs": [],
   "source": [
    "# Read in and examine data\n",
    "titanic_train = pd.read_csv('C:\\\\Users\\\\avhw\\\\DataScience\\\\DSDP\\\\Trees\\\\titanic_train.csv')\n",
    "titanic_train.head()\n",
    "\n",
    "# Subset data by columns to keep\n",
    "titanic_keep = [\"Survived\", \"Pclass\", \"Sex\", \"Age\", \"SibSp\",\n",
    "                \"Parch\", \"Fare\", \"Embarked\"]\n",
    "titanic_for_trees = titanic_train[titanic_keep]"
   ]
  },
  {
   "cell_type": "code",
   "execution_count": 3,
   "metadata": {},
   "outputs": [],
   "source": [
    "# Remove missing values\n",
    "titanic_for_trees = titanic_for_trees.dropna()\n",
    "titanic_for_trees = titanic_for_trees.reset_index(drop=True)\n",
    "\n",
    "# Split up X and y matrices\n",
    "X = titanic_for_trees.drop(columns=\"Survived\")\n",
    "y = titanic_for_trees[\"Survived\"]"
   ]
  },
  {
   "cell_type": "code",
   "execution_count": 4,
   "metadata": {},
   "outputs": [],
   "source": [
    "# One-hot encode categorical variables\n",
    "categorical_variables = [\"Pclass\", \"Sex\", \"Embarked\"]\n",
    "continuous_variables = [\"Age\", \"SibSp\", \"Parch\"]\n",
    "\n",
    "one_hot_encoder = OneHotEncoder()\n",
    "one_hot_encoder.fit(X[categorical_variables])\n",
    "X_ohed = one_hot_encoder.transform(X[categorical_variables]).toarray()\n",
    "X_ohed = pd.DataFrame(X_ohed,\n",
    "                      columns=one_hot_encoder.get_feature_names(categorical_variables))"
   ]
  },
  {
   "cell_type": "code",
   "execution_count": 5,
   "metadata": {},
   "outputs": [
    {
     "data": {
      "text/html": [
       "<div>\n",
       "<style scoped>\n",
       "    .dataframe tbody tr th:only-of-type {\n",
       "        vertical-align: middle;\n",
       "    }\n",
       "\n",
       "    .dataframe tbody tr th {\n",
       "        vertical-align: top;\n",
       "    }\n",
       "\n",
       "    .dataframe thead th {\n",
       "        text-align: right;\n",
       "    }\n",
       "</style>\n",
       "<table border=\"1\" class=\"dataframe\">\n",
       "  <thead>\n",
       "    <tr style=\"text-align: right;\">\n",
       "      <th></th>\n",
       "      <th>Age</th>\n",
       "      <th>SibSp</th>\n",
       "      <th>Parch</th>\n",
       "      <th>Pclass_1</th>\n",
       "      <th>Pclass_2</th>\n",
       "      <th>Pclass_3</th>\n",
       "      <th>Sex_female</th>\n",
       "      <th>Sex_male</th>\n",
       "      <th>Embarked_C</th>\n",
       "      <th>Embarked_Q</th>\n",
       "      <th>Embarked_S</th>\n",
       "    </tr>\n",
       "  </thead>\n",
       "  <tbody>\n",
       "    <tr>\n",
       "      <th>0</th>\n",
       "      <td>22.0</td>\n",
       "      <td>1</td>\n",
       "      <td>0</td>\n",
       "      <td>0.0</td>\n",
       "      <td>0.0</td>\n",
       "      <td>1.0</td>\n",
       "      <td>0.0</td>\n",
       "      <td>1.0</td>\n",
       "      <td>0.0</td>\n",
       "      <td>0.0</td>\n",
       "      <td>1.0</td>\n",
       "    </tr>\n",
       "    <tr>\n",
       "      <th>1</th>\n",
       "      <td>38.0</td>\n",
       "      <td>1</td>\n",
       "      <td>0</td>\n",
       "      <td>1.0</td>\n",
       "      <td>0.0</td>\n",
       "      <td>0.0</td>\n",
       "      <td>1.0</td>\n",
       "      <td>0.0</td>\n",
       "      <td>1.0</td>\n",
       "      <td>0.0</td>\n",
       "      <td>0.0</td>\n",
       "    </tr>\n",
       "    <tr>\n",
       "      <th>2</th>\n",
       "      <td>26.0</td>\n",
       "      <td>0</td>\n",
       "      <td>0</td>\n",
       "      <td>0.0</td>\n",
       "      <td>0.0</td>\n",
       "      <td>1.0</td>\n",
       "      <td>1.0</td>\n",
       "      <td>0.0</td>\n",
       "      <td>0.0</td>\n",
       "      <td>0.0</td>\n",
       "      <td>1.0</td>\n",
       "    </tr>\n",
       "    <tr>\n",
       "      <th>3</th>\n",
       "      <td>35.0</td>\n",
       "      <td>1</td>\n",
       "      <td>0</td>\n",
       "      <td>1.0</td>\n",
       "      <td>0.0</td>\n",
       "      <td>0.0</td>\n",
       "      <td>1.0</td>\n",
       "      <td>0.0</td>\n",
       "      <td>0.0</td>\n",
       "      <td>0.0</td>\n",
       "      <td>1.0</td>\n",
       "    </tr>\n",
       "    <tr>\n",
       "      <th>4</th>\n",
       "      <td>35.0</td>\n",
       "      <td>0</td>\n",
       "      <td>0</td>\n",
       "      <td>0.0</td>\n",
       "      <td>0.0</td>\n",
       "      <td>1.0</td>\n",
       "      <td>0.0</td>\n",
       "      <td>1.0</td>\n",
       "      <td>0.0</td>\n",
       "      <td>0.0</td>\n",
       "      <td>1.0</td>\n",
       "    </tr>\n",
       "  </tbody>\n",
       "</table>\n",
       "</div>"
      ],
      "text/plain": [
       "    Age  SibSp  Parch  Pclass_1  Pclass_2  Pclass_3  Sex_female  Sex_male  \\\n",
       "0  22.0      1      0       0.0       0.0       1.0         0.0       1.0   \n",
       "1  38.0      1      0       1.0       0.0       0.0         1.0       0.0   \n",
       "2  26.0      0      0       0.0       0.0       1.0         1.0       0.0   \n",
       "3  35.0      1      0       1.0       0.0       0.0         1.0       0.0   \n",
       "4  35.0      0      0       0.0       0.0       1.0         0.0       1.0   \n",
       "\n",
       "   Embarked_C  Embarked_Q  Embarked_S  \n",
       "0         0.0         0.0         1.0  \n",
       "1         1.0         0.0         0.0  \n",
       "2         0.0         0.0         1.0  \n",
       "3         0.0         0.0         1.0  \n",
       "4         0.0         0.0         1.0  "
      ]
     },
     "execution_count": 5,
     "metadata": {},
     "output_type": "execute_result"
    }
   ],
   "source": [
    "# Merge one-hot encoded categorical variables with continuous variables\n",
    "X = pd.concat([X[continuous_variables], X_ohed], axis=1)\n",
    "X.head()\n"
   ]
  },
  {
   "cell_type": "code",
   "execution_count": 6,
   "metadata": {},
   "outputs": [
    {
     "data": {
      "text/plain": [
       "DecisionTreeClassifier()"
      ]
     },
     "execution_count": 6,
     "metadata": {},
     "output_type": "execute_result"
    }
   ],
   "source": [
    "# Create classifier with default tree pruning hyperparameters and fit to data\n",
    "classifier_def = tree.DecisionTreeClassifier()\n",
    "classifier_def.fit(X, y)\n"
   ]
  },
  {
   "cell_type": "code",
   "execution_count": 7,
   "metadata": {},
   "outputs": [
    {
     "data": {
      "image/png": "[encoded data removed]",
      "text/plain": [
       "<Figure size 432x288 with 1 Axes>"
      ]
     },
     "metadata": {
      "needs_background": "light"
     },
     "output_type": "display_data"
    }
   ],
   "source": [
    "# Takes a second to generate the tree\n",
    "# Note the difference in default cp value in sklearn (0.0) resulting in a full tree\n",
    "tree_plot_def = tree.plot_tree(classifier_def)"
   ]
  },
  {
   "cell_type": "code",
   "execution_count": 30,
   "metadata": {},
   "outputs": [
    {
     "data": {
      "image/png": "[encoded data removed]",
      "text/plain": [
       "<Figure size 432x288 with 1 Axes>"
      ]
     },
     "metadata": {
      "needs_background": "light"
     },
     "output_type": "display_data"
    }
   ],
   "source": [
    "# Modulate the complexity parameter to result in a far smaller tree\n",
    "# Experiment with different tree parameters using the definitions here:\n",
    "# https://scikit-learn.org/stable/modules/generated/sklearn.tree.DecisionTreeClassifier.html\n",
    "classifier_cp = tree.DecisionTreeClassifier(ccp_alpha=0.01)\n",
    "classifier_cp.fit(X, y)\n",
    "tree_plot_cp = tree.plot_tree(classifier_cp)"
   ]
  },
  {
   "cell_type": "code",
   "execution_count": 9,
   "metadata": {},
   "outputs": [],
   "source": [
    "\n",
    "# %%\n",
    "# Tree refinement\n",
    "\n",
    "# Evaluation function calculating a number of helpful error metrics\n",
    "\n",
    "\n",
    "def evaluate(model, test_features, test_labels):\n",
    "    predictions = model.predict(test_features)\n",
    "    precision, recall, f1_score, _ = precision_recall_fscore_support(\n",
    "        test_labels, predictions, average='binary')\n",
    "    accuracy = accuracy_score(y_pred=predictions, y_true=test_labels)\n",
    "    mcc = matthews_corrcoef(y_pred=predictions, y_true=test_labels)\n",
    "\n",
    "    print('Model Performance')\n",
    "    print('Precision = {:0.2f}%.'.format(precision))\n",
    "    print('Recall = {:0.2f}%.'.format(recall))\n",
    "    print('F1-Score = {:0.2f}%.'.format(f1_score))\n",
    "    print('Accuracy = {:0.2f}%.'.format(accuracy))\n",
    "    print('MCC = {:0.2f}%.'.format(mcc))\n",
    "\n",
    "    return [precision, recall, f1_score, accuracy, mcc]\n",
    "\n",
    "\n"
   ]
  },
  {
   "cell_type": "code",
   "execution_count": 29,
   "metadata": {},
   "outputs": [
    {
     "name": "stdout",
     "output_type": "stream",
     "text": [
      "Best CV accuracy: 0.8073469387755102, with parameters: {'ccp_alpha': 0.0, 'max_depth': 3}\n",
      "Model Performance\n",
      "Precision = 0.80%.\n",
      "Recall = 0.62%.\n",
      "F1-Score = 0.70%.\n",
      "Accuracy = 0.78%.\n",
      "MCC = 0.53%.\n"
     ]
    },
    {
     "data": {
      "image/png": "[encoded data removed]",
      "text/plain": [
       "<Figure size 432x288 with 2 Axes>"
      ]
     },
     "metadata": {
      "needs_background": "light"
     },
     "output_type": "display_data"
    }
   ],
   "source": [
    "# Split data into a 70/30 train/test split\n",
    "X_train, X_test, y_train, y_test = train_test_split(X, y,\n",
    "                                                    test_size=0.3,\n",
    "                                                    random_state=123)\n",
    "\n",
    "# Use a grid search over a specified range of possible hyperparameter values\n",
    "parameters = {\n",
    "    'max_depth': range(3, 15),\n",
    "    'ccp_alpha': np.arange(0.0, .2, .01)\n",
    "}\n",
    "\n",
    "# Run grid search over hyperparameter ranges\n",
    "classifier = GridSearchCV(tree.DecisionTreeClassifier(),\n",
    "                          parameters,\n",
    "                          cv=10,\n",
    "                          n_jobs=-1\n",
    "                          )\n",
    "classifier.fit(X=X_train, y=y_train)\n",
    "\n",
    "# Extract best CV model and print its accuracy measure\n",
    "cv_best_model = classifier.best_estimator_\n",
    "print(\"Best CV accuracy: {}, with parameters: {}\".format(\n",
    "    classifier.best_score_, classifier.best_params_))\n",
    "\n",
    "# Evaluate best CV model on holdout test set\n",
    "precision, recall, f1_score, accuracy, mcc = evaluate(\n",
    "    cv_best_model, X_test, y_test)\n",
    "\n",
    "# Plot confusion matrix and best decision tree\n",
    "plot_confusion_matrix(cv_best_model, X_test, y_test)\n",
    "cv_best_model_plot = tree.plot_tree(cv_best_model)\n",
    "\n",
    "# %%\n"
   ]
  },
  {
   "cell_type": "markdown",
   "metadata": {},
   "source": [
    "Test at least three values each for the hyperparameters mentioned in the lecture in addition to than the complexity parameter using scikit-learn’s GridSearchCV function.  What are your findings?"
   ]
  },
  {
   "cell_type": "code",
   "execution_count": 15,
   "metadata": {},
   "outputs": [
    {
     "name": "stdout",
     "output_type": "stream",
     "text": [
      "0\n",
      "1\n",
      "2\n"
     ]
    }
   ],
   "source": [
    "for n in range(3):\n",
    "  print(n)"
   ]
  },
  {
   "cell_type": "code",
   "execution_count": 16,
   "metadata": {},
   "outputs": [
    {
     "name": "stdout",
     "output_type": "stream",
     "text": [
      "[0.   0.01 0.02 0.03 0.04 0.05 0.06 0.07 0.08 0.09 0.1  0.11 0.12 0.13\n",
      " 0.14 0.15 0.16 0.17 0.18 0.19]\n"
     ]
    }
   ],
   "source": [
    "print(np.arange(0, .2, .01))"
   ]
  },
  {
   "cell_type": "markdown",
   "metadata": {},
   "source": [
    "this pruning technique is parameterized by the cost complexity parameter, ccp_alpha. Greater values of ccp_alpha increase the number of nodes pruned.\n",
    "\n",
    "CP: factor between 0 and 1 which penalizes the number of tree splits\n",
    "cp = 0 , full topography is recovered\n",
    "cp =  1, nly root is present"
   ]
  },
  {
   "cell_type": "code",
   "execution_count": null,
   "metadata": {},
   "outputs": [],
   "source": []
  }
 ],
 "metadata": {
  "kernelspec": {
   "display_name": "Python 3",
   "language": "python",
   "name": "python3"
  },
  "language_info": {
   "codemirror_mode": {
    "name": "ipython",
    "version": 3
   },
   "file_extension": ".py",
   "mimetype": "text/x-python",
   "name": "python",
   "nbconvert_exporter": "python",
   "pygments_lexer": "ipython3",
   "version": "3.8.5"
  }
 },
 "nbformat": 4,
 "nbformat_minor": 4
}
